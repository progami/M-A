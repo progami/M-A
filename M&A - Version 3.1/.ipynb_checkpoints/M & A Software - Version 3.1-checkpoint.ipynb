{
 "cells": [
  {
   "cell_type": "code",
   "execution_count": 1,
   "id": "f9af6d1a",
   "metadata": {},
   "outputs": [],
   "source": [
    "# imports\n",
    "import folium\n",
    "from haversine import haversine, Unit\n",
    "from pprint import pprint\n",
    "import numpy as np\n",
    "import time as t\n",
    "import pandas as pd\n",
    "from datetime import datetime, timedelta\n",
    "from decimal import Decimal, ROUND_UP\n",
    "import osmnx as ox\n",
    "import networkx as nx\n",
    "\n",
    "ox.config(log_console=False, use_cache=True)"
   ]
  },
  {
   "cell_type": "code",
   "execution_count": null,
   "id": "bc26dc65",
   "metadata": {},
   "outputs": [],
   "source": []
  },
  {
   "cell_type": "code",
   "execution_count": 2,
   "id": "ab7c720c",
   "metadata": {},
   "outputs": [
    {
     "data": {
      "text/plain": [
       "<folium.map.LayerControl at 0x1b13289a350>"
      ]
     },
     "execution_count": 2,
     "metadata": {},
     "output_type": "execute_result"
    }
   ],
   "source": [
    "# Khi - HQ\n",
    "Khi_latlng = (24.853803, 67.035395)\n",
    "\n",
    "# Saleh Pat\n",
    "slp_latlng = (27.519, 69.044)\n",
    "\n",
    "# Hyd - Cantt\n",
    "hyd_latlang = (25.399066, 68.359492)\n",
    "\n",
    "# Bdn - Cantt\n",
    "bdn_latlang = (24.657308, 68.859181)\n",
    "\n",
    "basic_map = folium.Map(location= (26.277998, 68.288195),\n",
    "                    zoom_start=7)\n",
    "\n",
    "folium.TileLayer('Stamen Terrain').add_to(basic_map)\n",
    "folium.TileLayer('Stamen Toner').add_to(basic_map)\n",
    "folium.TileLayer('Stamen Water Color').add_to(basic_map)\n",
    "folium.TileLayer('cartodbpositron').add_to(basic_map)\n",
    "folium.TileLayer('cartodbdark_matter').add_to(basic_map)\n",
    "folium.LayerControl().add_to(basic_map)\n"
   ]
  },
  {
   "cell_type": "code",
   "execution_count": null,
   "id": "fe3b0dd8",
   "metadata": {},
   "outputs": [
    {
     "name": "stderr",
     "output_type": "stream",
     "text": [
      "C:\\ProgramData\\Anaconda3\\envs\\ox\\lib\\site-packages\\osmnx\\geocoder.py:110: FutureWarning: The frame.append method is deprecated and will be removed from pandas in a future version. Use pandas.concat instead.\n",
      "  gdf = gdf.append(_geocode_query_to_gdf(q, wr, by_osmid))\n"
     ]
    }
   ],
   "source": [
    "# location where you want to find your route\n",
    "place     = 'Sindh, Pakistan'\n",
    "# find shortest route based on the mode of travel\n",
    "mode      = 'drive'        # 'drive', 'bike', 'walk'\n",
    "# find shortest path based on distance or time\n",
    "optimizer = 'length'        # 'length','time'\n",
    "\n",
    "# Get all nodes in a certain area which are permissible for driving\n",
    "graph = ox.graph_from_place(place, network_type = mode)"
   ]
  },
  {
   "cell_type": "code",
   "execution_count": null,
   "id": "874b08a9",
   "metadata": {},
   "outputs": [],
   "source": [
    "def get_path_coordinates(cvy_start, cvy_dest):\n",
    "    \n",
    "    path_list = []\n",
    "    if cvy_start == 'Karachi':\n",
    "        # Khi - HQ\n",
    "        start_latlng = Khi_latlng\n",
    "        \n",
    "        if cvy_dest == 'Hyderabad':\n",
    "            end_latlng = hyd_latlang\n",
    "        \n",
    "        if cvy_dest == 'Badin':\n",
    "            end_latlng = bdn_latlang\n",
    "            \n",
    "        if cvy_dest == 'Saleh Pat':\n",
    "            end_latlng = slp_latlng\n",
    "        \n",
    "        \n",
    "    if cvy_start == 'Hyderabad':\n",
    "        # Khi - HQ\n",
    "        start_latlng = hyd_latlang\n",
    "        \n",
    "        if cvy_dest == 'Karachi':\n",
    "            end_latlng = Khi_latlng\n",
    "        \n",
    "        if cvy_dest == 'Badin':\n",
    "            end_latlng = bdn_latlang\n",
    "            \n",
    "        if cvy_dest == 'Saleh Pat':\n",
    "            end_latlng = slp_latlng\n",
    "            \n",
    "    if cvy_start == 'Badin':\n",
    "        # Khi - HQ\n",
    "        start_latlng = bdn_latlang\n",
    "        \n",
    "        if cvy_dest == 'Hyderabad':\n",
    "            end_latlng = hyd_latlang\n",
    "        \n",
    "        if cvy_dest == 'Karachi':\n",
    "            end_latlng = Khi_latlng\n",
    "            \n",
    "        if cvy_dest == 'Saleh Pat':\n",
    "            end_latlng = slp_latlng\n",
    "        \n",
    "    if cvy_start == 'Saleh Pat':\n",
    "        # Khi - HQ\n",
    "        start_latlng = slp_latlng\n",
    "        \n",
    "        if cvy_dest == 'Hyderabad':\n",
    "            end_latlng = hyd_latlang\n",
    "        \n",
    "        if cvy_dest == 'Badin':\n",
    "            end_latlng = bdn_latlang\n",
    "            \n",
    "        if cvy_dest == 'Karachi':\n",
    "            end_latlng = Khi_latlng\n",
    "\n",
    "    \n",
    "    # find the nearest node to the start location\n",
    "    orig_node = ox.get_nearest_node(graph, start_latlng)\n",
    "\n",
    "    # find the nearest node to the end location\n",
    "    dest_node = ox.get_nearest_node(graph, end_latlng)\n",
    "    \n",
    "    #  find the shortest path\n",
    "    shortest_route = nx.shortest_path(graph,\n",
    "                                      orig_node,\n",
    "                                      dest_node,\n",
    "                                      weight=optimizer)\n",
    "    \n",
    "    for shortlisted_node in shortest_route:\n",
    "        path_list.append((graph.nodes[shortlisted_node][\"y\"], \n",
    "                          graph.nodes[shortlisted_node][\"x\"]))\n",
    "    \n",
    "    return path_list"
   ]
  },
  {
   "cell_type": "code",
   "execution_count": null,
   "id": "fe078630",
   "metadata": {},
   "outputs": [],
   "source": [
    "def get_input_distance(start_time, user_time, speed):\n",
    "    \n",
    "    t1 = datetime.strptime(str(start_time)[0:2] + ':' + str(start_time)[2:4], '%H:%M')\n",
    "    t2 = datetime.strptime(str(user_time)[0:2] + ':' + str(user_time)[2:4], '%H:%M')\n",
    "    td = t2 - t1\n",
    "    time_spent = td.total_seconds()/3600\n",
    "    dist_now = speed*time_spent\n",
    "    \n",
    "    return dist_now\n"
   ]
  },
  {
   "cell_type": "code",
   "execution_count": null,
   "id": "fffd6387",
   "metadata": {},
   "outputs": [],
   "source": [
    "def get_dist_coordinates(coordinates):\n",
    "    \n",
    "    cumulative_dist = 0\n",
    "    dist_list = []\n",
    "#     print(coordinates)\n",
    "    \n",
    "    for index in range(len(coordinates)):\n",
    "        if index:\n",
    "            dist_one = haversine(coordinates[index-1], coordinates[index])\n",
    "            cumulative_dist += dist_one\n",
    "            dist_list.append(cumulative_dist)\n",
    "        else:\n",
    "            dist_one = 0\n",
    "            dist_list.append(dist_one)\n",
    "    \n",
    "    return dist_list\n"
   ]
  },
  {
   "cell_type": "code",
   "execution_count": null,
   "id": "33b9d057",
   "metadata": {},
   "outputs": [],
   "source": [
    "def get_relative_distance(user_distance, dist_coordinates):\n",
    "    \n",
    "    relative_dist = []\n",
    "#     print(user_distance)\n",
    "    \n",
    "    for dist in dist_coordinates:\n",
    "        \n",
    "        temp = abs(dist - user_distance)\n",
    "        relative_dist.append(temp)\n",
    "        \n",
    "    return relative_dist"
   ]
  },
  {
   "cell_type": "code",
   "execution_count": null,
   "id": "6a36d674",
   "metadata": {},
   "outputs": [],
   "source": [
    "def create_path(coordinates_cleaned, cvy_start, cvy_dest, cvy_color, folium_map):\n",
    "# expects a list of tuples containing path coordinates ... [(1,1),(2,2),(3,3)...]\n",
    "    \n",
    "    path = coordinates_cleaned\n",
    "    \n",
    "    folium.PolyLine(path,\n",
    "                color= cvy_color,\n",
    "                weight=3,\n",
    "                opacity=0.7).add_to(folium_map)"
   ]
  },
  {
   "cell_type": "code",
   "execution_count": null,
   "id": "8ba69c08",
   "metadata": {},
   "outputs": [],
   "source": [
    "\"\"\"Read data from excel file\"\"\"\n",
    "\n",
    "# lst of column names which needs to be string\n",
    "lst_str_cols = ['Start Time']\n",
    "# use dictionary comprehension to make dict of dtypes\n",
    "dict_dtypes = {x : 'str'  for x in lst_str_cols}\n",
    "\n",
    "cvy_inputs = pd.read_excel('Inputs.xlsx', dtype=dict_dtypes)\n",
    "cvy_inputs['Coordinates'] = cvy_inputs['Coordinates'].astype(object)\n",
    "cvy_inputs['Distance'] = cvy_inputs['Distance'].astype(object)\n",
    "cvy_inputs['Relative Distance'] = cvy_inputs['Relative Distance'].astype(object)\n",
    "start_time = cvy_inputs['Start Time'].min()\n",
    "user_time = str(input('Enter Time for Activity XXXX Hrs: '))"
   ]
  },
  {
   "cell_type": "code",
   "execution_count": null,
   "id": "20e54662",
   "metadata": {
    "scrolled": false
   },
   "outputs": [],
   "source": [
    "user_dist = get_input_distance(start_time, user_time, cvy_inputs['Speed'])\n",
    "\n",
    "for index, rows in cvy_inputs.iterrows():\n",
    "    \n",
    "    # get coordinates based on route and append to dataframe as new column 'Coordinates'\n",
    "    path = get_path_coordinates(rows['Start'], rows['Destination'])\n",
    "    # insert list of coordinates at a single index in dataframe\n",
    "    cvy_inputs.at[index, 'Coordinates'] = path\n",
    "\n",
    "# calculate distances between coordinates\n",
    "\n",
    "for index, rows in cvy_inputs.iterrows():\n",
    "    # get distances based on coordinates and append to dataframe as new column 'Distance'\n",
    "    dist = get_dist_coordinates(rows['Coordinates'])\n",
    "    # insert list of distances at a single index in dataframe\n",
    "    cvy_inputs.at[index, 'Distance'] = dist\n",
    "\n",
    "# find shortest distance of user_distance - rows['Distance']\n",
    "\n",
    "for index, rows in cvy_inputs.iterrows():\n",
    "    relative_dist = get_relative_distance(user_dist[index], rows['Distance'])\n",
    "    cvy_inputs.at[index, 'Relative Distance'] = relative_dist\n",
    "    \n",
    "\n",
    "for index, rows in cvy_inputs.iterrows():\n",
    "    print(rows['Order'])\n",
    "    \n",
    "    for num_order in range(rows['Order']):\n",
    "        index_min = np.argmin(rows['Relative Distance'])\n",
    "        coordinates_min = rows['Coordinates'][index_min - num_order]\n",
    "        popup_text = str(rows['Name']) + ' Current Location: ' + str(user_dist[index]) + \" KM\"\n",
    "\n",
    "\n",
    "        folium.Marker(location= coordinates_min, \n",
    "                      popup= popup_text,\n",
    "                      icon= folium.Icon(color=rows['Color'], \n",
    "                                        icon_color='white', \n",
    "                                        icon = 'fa-truck', \n",
    "                                        prefix='fa')\n",
    "                     ).add_to(basic_map)\n",
    "    \n",
    "        \n",
    "#         folium.RegularPolygonMarker(location= coordinates_min \n",
    "#                                 , fill_color= rows['Color']\n",
    "#                                 , number_of_sides=3\n",
    "#                                 , radius=15\n",
    "#                                 , rotation=45).add_to(basic_map)\n",
    "        \n",
    "        \n",
    "        create_path(rows['Coordinates'], rows['Start'], rows['Destination'], rows['Color'], basic_map)\n",
    "    \n",
    "\n",
    "basic_map"
   ]
  },
  {
   "cell_type": "code",
   "execution_count": null,
   "id": "576f5bad",
   "metadata": {
    "scrolled": false
   },
   "outputs": [],
   "source": []
  },
  {
   "cell_type": "markdown",
   "id": "f5735a61",
   "metadata": {},
   "source": []
  },
  {
   "cell_type": "code",
   "execution_count": null,
   "id": "c91e84c7",
   "metadata": {},
   "outputs": [],
   "source": []
  },
  {
   "cell_type": "code",
   "execution_count": null,
   "id": "234fb8e4",
   "metadata": {},
   "outputs": [],
   "source": []
  }
 ],
 "metadata": {
  "kernelspec": {
   "display_name": "Python 3",
   "language": "python",
   "name": "python3"
  },
  "language_info": {
   "codemirror_mode": {
    "name": "ipython",
    "version": 3
   },
   "file_extension": ".py",
   "mimetype": "text/x-python",
   "name": "python",
   "nbconvert_exporter": "python",
   "pygments_lexer": "ipython3",
   "version": "3.10.2"
  }
 },
 "nbformat": 4,
 "nbformat_minor": 5
}
